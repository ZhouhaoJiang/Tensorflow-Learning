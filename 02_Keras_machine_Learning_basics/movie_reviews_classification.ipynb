{
 "cells": [
  {
   "cell_type": "markdown",
   "source": [
    "# 演示从存储在磁盘上的纯文本文件开始的文本分类。训练一个二元分类器对 IMDB 数据集执行情感分析。"
   ],
   "metadata": {
    "collapsed": false
   },
   "id": "29b294f8648c489f"
  },
  {
   "cell_type": "code",
   "execution_count": 21,
   "id": "initial_id",
   "metadata": {
    "collapsed": true,
    "ExecuteTime": {
     "end_time": "2024-01-11T06:43:56.162146Z",
     "start_time": "2024-01-11T06:43:56.115817Z"
    }
   },
   "outputs": [],
   "source": [
    "import matplotlib.pyplot as plt\n",
    "import os\n",
    "import re\n",
    "import shutil\n",
    "import string\n",
    "import tensorflow as tf\n",
    "\n",
    "# 教程中的导入方法为\n",
    "# from tensorflow.keras import layers\n",
    "# from tensorflow.keras import losses\n",
    "from tensorflow.python import keras\n",
    "from keras import layers\n",
    "from keras import losses"
   ]
  },
  {
   "cell_type": "code",
   "execution_count": 22,
   "outputs": [
    {
     "name": "stdout",
     "output_type": "stream",
     "text": [
      "2.15.0\n"
     ]
    }
   ],
   "source": [
    "print(tf.__version__)"
   ],
   "metadata": {
    "collapsed": false,
    "ExecuteTime": {
     "end_time": "2024-01-11T06:43:56.172398Z",
     "start_time": "2024-01-11T06:43:56.118894Z"
    }
   },
   "id": "e0fb0f78c391fb4a"
  },
  {
   "cell_type": "markdown",
   "source": [
    "使用 Large Movie Review Dataset, 该数据集包含来自互联网电影数据库的文本影评，标记为正面或负面。"
   ],
   "metadata": {
    "collapsed": false
   },
   "id": "6cfb498fa9319719"
  },
  {
   "cell_type": "code",
   "execution_count": 23,
   "outputs": [],
   "source": [
    "url = \"https://ai.stanford.edu/~amaas/data/sentiment/aclImdb_v1.tar.gz\"\n",
    "\n",
    "# 使用 keras.utils.get_file() 下载数据集并将其缓存到缓存目录中。\n",
    "dataset = tf.keras.utils.get_file(\"aclImdb_v1\", url,\n",
    "                                    untar=True, cache_dir='.',\n",
    "                                    cache_subdir='')\n",
    "\n",
    "# 为数据集创建一个根目录\n",
    "dataset_dir = os.path.join(os.path.dirname(dataset), 'aclImdb')"
   ],
   "metadata": {
    "collapsed": false,
    "ExecuteTime": {
     "end_time": "2024-01-11T06:44:10.846963Z",
     "start_time": "2024-01-11T06:43:56.122875Z"
    }
   },
   "id": "9c069a02f4696c26"
  },
  {
   "cell_type": "code",
   "execution_count": 24,
   "outputs": [
    {
     "data": {
      "text/plain": "['imdbEr.txt', 'test', 'imdb.vocab', 'README', 'train']"
     },
     "execution_count": 24,
     "metadata": {},
     "output_type": "execute_result"
    }
   ],
   "source": [
    "os.listdir(dataset_dir)"
   ],
   "metadata": {
    "collapsed": false,
    "ExecuteTime": {
     "end_time": "2024-01-11T06:44:10.854287Z",
     "start_time": "2024-01-11T06:44:10.847770Z"
    }
   },
   "id": "a453d925967013ba"
  },
  {
   "cell_type": "code",
   "execution_count": 25,
   "outputs": [
    {
     "data": {
      "text/plain": "['urls_unsup.txt',\n 'neg',\n 'urls_pos.txt',\n 'unsup',\n 'urls_neg.txt',\n 'pos',\n 'unsupBow.feat',\n 'labeledBow.feat']"
     },
     "execution_count": 25,
     "metadata": {},
     "output_type": "execute_result"
    }
   ],
   "source": [
    "# 创建一个目录来存储训练和验证数据\n",
    "train_dir = os.path.join(dataset_dir, 'train')\n",
    "os.listdir(train_dir)"
   ],
   "metadata": {
    "collapsed": false,
    "ExecuteTime": {
     "end_time": "2024-01-11T06:44:10.854530Z",
     "start_time": "2024-01-11T06:44:10.851156Z"
    }
   },
   "id": "b0f5b267b06c6f3a"
  },
  {
   "cell_type": "markdown",
   "source": [
    "读取train_dir中的pos/1181_9.txt"
   ],
   "metadata": {
    "collapsed": false
   },
   "id": "2eb00901f6943a76"
  },
  {
   "cell_type": "code",
   "execution_count": 26,
   "outputs": [
    {
     "name": "stdout",
     "output_type": "stream",
     "text": [
      "Rachel Griffiths writes and directs this award winning short film. A heartwarming story about coping with grief and cherishing the memory of those we've loved and lost. Although, only 15 minutes long, Griffiths manages to capture so much emotion and truth onto film in the short space of time. Bud Tingwell gives a touching performance as Will, a widower struggling to cope with his wife's death. Will is confronted by the harsh reality of loneliness and helplessness as he proceeds to take care of Ruth's pet cow, Tulip. The film displays the grief and responsibility one feels for those they have loved and lost. Good cinematography, great direction, and superbly acted. It will bring tears to all those who have lost a loved one, and survived.\n"
     ]
    }
   ],
   "source": [
    "sample_file = os.path.join(train_dir, 'pos/1181_9.txt')\n",
    "with open(sample_file) as f:\n",
    "  print(f.read())"
   ],
   "metadata": {
    "collapsed": false,
    "ExecuteTime": {
     "end_time": "2024-01-11T06:44:10.857667Z",
     "start_time": "2024-01-11T06:44:10.854989Z"
    }
   },
   "id": "9e6cc9318f284a52"
  },
  {
   "cell_type": "markdown",
   "source": [
    "# 加载数据集"
   ],
   "metadata": {
    "collapsed": false
   },
   "id": "c4c72ec843d045ea"
  },
  {
   "cell_type": "code",
   "execution_count": 27,
   "outputs": [],
   "source": [
    "# 由于只需要neg和pos\n",
    "remove_dir = os.path.join(train_dir, 'unsup')\n",
    "shutil.rmtree(remove_dir) # shutil.rmtree() 递归删除文件夹unsup "
   ],
   "metadata": {
    "collapsed": false,
    "ExecuteTime": {
     "end_time": "2024-01-11T06:44:15.097604Z",
     "start_time": "2024-01-11T06:44:10.859492Z"
    }
   },
   "id": "2f285ceb9ea59e48"
  },
  {
   "cell_type": "markdown",
   "source": [
    "# 拆分训练集创建验证集"
   ],
   "metadata": {
    "collapsed": false
   },
   "id": "5fe73fb4f0ed0535"
  },
  {
   "cell_type": "code",
   "execution_count": 28,
   "outputs": [
    {
     "name": "stdout",
     "output_type": "stream",
     "text": [
      "Found 25000 files belonging to 2 classes.\n",
      "Using 20000 files for training.\n"
     ]
    }
   ],
   "source": [
    "batch_size = 32\n",
    "seed = 42\n",
    "\n",
    "# 使用validation_split和subset参数来分割训练集\n",
    "raw_train_ds = tf.keras.utils.text_dataset_from_directory(\n",
    "    'aclImdb/train', \n",
    "    batch_size=batch_size, \n",
    "    validation_split=0.2, # 以20%的数据作为验证集\n",
    "    subset='training',  # 从训练集中取\n",
    "    seed=seed)"
   ],
   "metadata": {
    "collapsed": false,
    "ExecuteTime": {
     "end_time": "2024-01-11T06:44:15.926218Z",
     "start_time": "2024-01-11T06:44:15.097726Z"
    }
   },
   "id": "bdb73314e72be5bd"
  },
  {
   "cell_type": "markdown",
   "source": [
    "# 遍历打印前三个样本"
   ],
   "metadata": {
    "collapsed": false
   },
   "id": "1f5e0ac9d50b7f0"
  },
  {
   "cell_type": "code",
   "execution_count": 29,
   "outputs": [
    {
     "name": "stdout",
     "output_type": "stream",
     "text": [
      "Review b'\"Pandemonium\" is a horror movie spoof that comes off more stupid than funny. Believe me when I tell you, I love comedies. Especially comedy spoofs. \"Airplane\", \"The Naked Gun\" trilogy, \"Blazing Saddles\", \"High Anxiety\", and \"Spaceballs\" are some of my favorite comedies that spoof a particular genre. \"Pandemonium\" is not up there with those films. Most of the scenes in this movie had me sitting there in stunned silence because the movie wasn\\'t all that funny. There are a few laughs in the film, but when you watch a comedy, you expect to laugh a lot more than a few times and that\\'s all this film has going for it. Geez, \"Scream\" had more laughs than this film and that was more of a horror film. How bizarre is that?<br /><br />*1/2 (out of four)'\n",
      "Label 0\n",
      "Review b\"David Mamet is a very interesting and a very un-equal director. His first movie 'House of Games' was the one I liked best, and it set a series of films with characters whose perspective of life changes as they get into complicated situations, and so does the perspective of the viewer.<br /><br />So is 'Homicide' which from the title tries to set the mind of the viewer to the usual crime drama. The principal characters are two cops, one Jewish and one Irish who deal with a racially charged area. The murder of an old Jewish shop owner who proves to be an ancient veteran of the Israeli Independence war triggers the Jewish identity in the mind and heart of the Jewish detective.<br /><br />This is were the flaws of the film are the more obvious. The process of awakening is theatrical and hard to believe, the group of Jewish militants is operatic, and the way the detective eventually walks to the final violent confrontation is pathetic. The end of the film itself is Mamet-like smart, but disappoints from a human emotional perspective.<br /><br />Joe Mantegna and William Macy give strong performances, but the flaws of the story are too evident to be easily compensated.\"\n",
      "Label 0\n",
      "Review b'Great documentary about the lives of NY firefighters during the worst terrorist attack of all time.. That reason alone is why this should be a must see collectors item.. What shocked me was not only the attacks, but the\"High Fat Diet\" and physical appearance of some of these firefighters. I think a lot of Doctors would agree with me that,in the physical shape they were in, some of these firefighters would NOT of made it to the 79th floor carrying over 60 lbs of gear. Having said that i now have a greater respect for firefighters and i realize becoming a firefighter is a life altering job. The French have a history of making great documentary\\'s and that is what this is, a Great Documentary.....'\n",
      "Label 1\n"
     ]
    }
   ],
   "source": [
    "for text_batch, label_batch in raw_train_ds.take(1):\n",
    "  for i in range(3):\n",
    "    print(\"Review\", text_batch.numpy()[i])\n",
    "    print(\"Label\", label_batch.numpy()[i])"
   ],
   "metadata": {
    "collapsed": false,
    "ExecuteTime": {
     "end_time": "2024-01-11T06:44:15.959495Z",
     "start_time": "2024-01-11T06:44:15.926329Z"
    }
   },
   "id": "e2c970493933aefe"
  },
  {
   "cell_type": "markdown",
   "source": [
    "# 标签为 0 或 1。要查看它们与正面和负面电影评论的对应关系，可以查看数据集上的 class_names"
   ],
   "metadata": {
    "collapsed": false
   },
   "id": "4c3d8c1220413f51"
  },
  {
   "cell_type": "code",
   "execution_count": 30,
   "outputs": [
    {
     "name": "stdout",
     "output_type": "stream",
     "text": [
      "Label 0 corresponds to neg\n",
      "Label 1 corresponds to pos\n"
     ]
    }
   ],
   "source": [
    "print(\"Label 0 corresponds to\", raw_train_ds.class_names[0])\n",
    "print(\"Label 1 corresponds to\", raw_train_ds.class_names[1])"
   ],
   "metadata": {
    "collapsed": false,
    "ExecuteTime": {
     "end_time": "2024-01-11T06:44:15.963653Z",
     "start_time": "2024-01-11T06:44:15.941731Z"
    }
   },
   "id": "bfdf0b33ebdfa375"
  },
  {
   "cell_type": "markdown",
   "source": [
    "# 创建验证数据集和测试数据集"
   ],
   "metadata": {
    "collapsed": false
   },
   "id": "31a647a3bd7249b7"
  },
  {
   "cell_type": "code",
   "execution_count": 31,
   "outputs": [
    {
     "name": "stdout",
     "output_type": "stream",
     "text": [
      "Found 25000 files belonging to 2 classes.\n",
      "Using 5000 files for validation.\n"
     ]
    }
   ],
   "source": [
    "raw_val_ds = tf.keras.utils.text_dataset_from_directory(\n",
    "    'aclImdb/train', \n",
    "    batch_size=batch_size, \n",
    "    validation_split=0.2, \n",
    "    subset='validation', \n",
    "    seed=seed)"
   ],
   "metadata": {
    "collapsed": false,
    "ExecuteTime": {
     "end_time": "2024-01-11T06:44:16.722019Z",
     "start_time": "2024-01-11T06:44:15.944032Z"
    }
   },
   "id": "3fea5fed3062630f"
  },
  {
   "cell_type": "code",
   "execution_count": 32,
   "outputs": [
    {
     "name": "stdout",
     "output_type": "stream",
     "text": [
      "Found 25000 files belonging to 2 classes.\n"
     ]
    }
   ],
   "source": [
    "raw_test_ds = tf.keras.utils.text_dataset_from_directory(\n",
    "    'aclImdb/test', \n",
    "    batch_size=batch_size)"
   ],
   "metadata": {
    "collapsed": false,
    "ExecuteTime": {
     "end_time": "2024-01-11T06:44:17.508762Z",
     "start_time": "2024-01-11T06:44:16.708910Z"
    }
   },
   "id": "bd527927fca69195"
  },
  {
   "cell_type": "markdown",
   "source": [
    "# 准备用于训练的数据集"
   ],
   "metadata": {
    "collapsed": false
   },
   "id": "152406378403025d"
  },
  {
   "cell_type": "code",
   "execution_count": 33,
   "outputs": [],
   "source": [
    "def custom_standardization(input_data):\n",
    "  lowercase = tf.strings.lower(input_data) # 小写\n",
    "  stripped_html = tf.strings.regex_replace(lowercase, '<br />', ' ') # 去除html标签\n",
    "  return tf.strings.regex_replace(stripped_html,\n",
    "                                  '[%s]' % re.escape(string.punctuation),\n",
    "                                  '') # 去除标点符号 tf.strings.regex_replace() 正则表达式替换 args: pattern, rewrite, input"
   ],
   "metadata": {
    "collapsed": false,
    "ExecuteTime": {
     "end_time": "2024-01-11T06:44:17.514525Z",
     "start_time": "2024-01-11T06:44:17.509825Z"
    }
   },
   "id": "5f0032a08ecc313c"
  },
  {
   "cell_type": "markdown",
   "source": [
    "# 接下来，您将创建一个 TextVectorization 层。您将使用该层对我们的数据进行标准化、词例化和向量化。您将 output_mode 设置为 int 以便为每个词例创建唯一的整数索引。"
   ],
   "metadata": {
    "collapsed": false
   },
   "id": "54b8f87a77df84cd"
  },
  {
   "cell_type": "code",
   "execution_count": 34,
   "outputs": [],
   "source": [
    "max_features = 10000 # 仅考虑前 10000 个词\n",
    "sequence_length = 250 # 只考虑每个影评中的前 250 个词\n",
    "\n",
    "# layer用于标准化、词例化和向量化 TextVectorization\n",
    "# 文本数据向量化层\n",
    "vectorize_layer = layers.TextVectorization(\n",
    "    standardize=custom_standardization, # 标准化\n",
    "    max_tokens=max_features, # 仅考虑前 10000 个词\n",
    "    output_mode='int', # 为每个词例创建唯一的整数索引\n",
    "    output_sequence_length=sequence_length)"
   ],
   "metadata": {
    "collapsed": false,
    "ExecuteTime": {
     "end_time": "2024-01-11T06:44:17.519552Z",
     "start_time": "2024-01-11T06:44:17.514626Z"
    }
   },
   "id": "73246c116c71c919"
  },
  {
   "cell_type": "markdown",
   "source": [
    "# 接下来，您将调用 adapt 以使预处理层的状态适合数据集。这会使模型构建字符串到整数的索引。"
   ],
   "metadata": {
    "collapsed": false
   },
   "id": "575b4f92f13a4e12"
  },
  {
   "cell_type": "code",
   "execution_count": 35,
   "outputs": [],
   "source": [
    "# raw_train_ds中的数据是一个batch一个batch的，所以需要先将其转换为一个list\n",
    "# 然后通过vectorize_layer.adapt()来适应数据集\n",
    "train_text = raw_train_ds.map(lambda x, y: x)\n",
    "vectorize_layer.adapt(train_text)"
   ],
   "metadata": {
    "collapsed": false,
    "ExecuteTime": {
     "end_time": "2024-01-11T06:49:22.692274Z",
     "start_time": "2024-01-11T06:49:21.496660Z"
    }
   },
   "id": "cdcdeca134d4e3cd"
  },
  {
   "cell_type": "markdown",
   "source": [
    "# 创建一个函数来查看使用该层预处理一些数据的结果"
   ],
   "metadata": {
    "collapsed": false
   },
   "id": "cd1a485005410d43"
  },
  {
   "cell_type": "code",
   "execution_count": 37,
   "outputs": [],
   "source": [
    "def vectorize_text(text, label):\n",
    "  text = tf.expand_dims(text, -1) # tf.expand_dims() 给张量增加一个维度\n",
    "  return vectorize_layer(text), label # vectorize_layer() 将文本转换为向量"
   ],
   "metadata": {
    "collapsed": false,
    "ExecuteTime": {
     "end_time": "2024-01-11T06:55:01.810027Z",
     "start_time": "2024-01-11T06:55:01.807506Z"
    }
   },
   "id": "d6b81c0e5dff5e30"
  },
  {
   "cell_type": "code",
   "execution_count": 38,
   "outputs": [
    {
     "name": "stdout",
     "output_type": "stream",
     "text": [
      "Review tf.Tensor(b'Belmondo is a tough cop. He goes after a big-time drug dealer (played by Henry Silva, normally a great villain - see \"Sharky\\'s Machine\"; but here he is clearly dubbed, and because of that he lacks his usual charisma). He goes to the scuzziest places of Paris and Marseilles, asks for some names, beats up some people, gets the names, goes to more scuzzy places, asks for more names, beats up more people, etc. The whole movie is punch after punch after punch. It seems that the people who made it had no other ambition than to create the French equivalent of \"Dirty Harry\". Belmondo, who was 50 here, does perform some good stunts at the beginning; apart from those, \"Le Marginal\" is a violent, episodic, trite, shallow and forgettable cop movie. (*1/2)', shape=(), dtype=string)\n",
      "Label neg\n",
      "Vectorized review (<tf.Tensor: shape=(1, 250), dtype=int64, numpy=\n",
      "array([[   1,    7,    4, 1233, 1021,   27,  261,  101,    4,    1, 1525,\n",
      "        6992,  248,   32, 1488,    1, 1659,    4,   86, 1011,   67,    1,\n",
      "        1707,   18,  128,   27,    7,  688, 2396,    3,   84,    5,   12,\n",
      "          27, 1453,   24,  616, 3314,   27,  261,    6,    2,    1, 1329,\n",
      "           5, 1371,    3,    1, 1581,   15,   46, 1356, 3612,   56,   46,\n",
      "          79,  201,    2, 1356,  261,    6,   50,    1, 1329, 1581,   15,\n",
      "          50, 1356, 3612,   56,   50,   79,  532,    2,  211,   17,    7,\n",
      "        2851,  101, 2851,  101, 2851,    9,  180,   12,    2,   79,   36,\n",
      "          90,    9,   66,   57,   78, 5415,   70,    6,  916,    2,  800,\n",
      "        4891,    5, 1678, 1347,    1,   36,   13, 1732,  128,  120, 3078,\n",
      "          46,   49, 3274,   31,    2,  435,  948,   35,  143, 3519,    1,\n",
      "           7,    4, 1097, 9578, 3092, 2056,    3, 2512, 1021,   17, 1105,\n",
      "           0,    0,    0,    0,    0,    0,    0,    0,    0,    0,    0,\n",
      "           0,    0,    0,    0,    0,    0,    0,    0,    0,    0,    0,\n",
      "           0,    0,    0,    0,    0,    0,    0,    0,    0,    0,    0,\n",
      "           0,    0,    0,    0,    0,    0,    0,    0,    0,    0,    0,\n",
      "           0,    0,    0,    0,    0,    0,    0,    0,    0,    0,    0,\n",
      "           0,    0,    0,    0,    0,    0,    0,    0,    0,    0,    0,\n",
      "           0,    0,    0,    0,    0,    0,    0,    0,    0,    0,    0,\n",
      "           0,    0,    0,    0,    0,    0,    0,    0,    0,    0,    0,\n",
      "           0,    0,    0,    0,    0,    0,    0,    0,    0,    0,    0,\n",
      "           0,    0,    0,    0,    0,    0,    0,    0,    0,    0,    0,\n",
      "           0,    0,    0,    0,    0,    0,    0,    0]])>, <tf.Tensor: shape=(), dtype=int32, numpy=0>)\n"
     ]
    }
   ],
   "source": [
    "# 从数据集中检索一个批次(包含32个评论和标签)\n",
    "text_batch, label_batch = next(iter(raw_train_ds)) # iter() 创建一个迭代器 next() 返回迭代器的下一个项目\n",
    "first_review, first_label = text_batch[0], label_batch[0]\n",
    "print(\"Review\", first_review)\n",
    "print(\"Label\", raw_train_ds.class_names[first_label])\n",
    "print(\"Vectorized review\", vectorize_text(first_review, first_label))"
   ],
   "metadata": {
    "collapsed": false,
    "ExecuteTime": {
     "end_time": "2024-01-11T06:55:03.883299Z",
     "start_time": "2024-01-11T06:55:03.809856Z"
    }
   },
   "id": "274b5afb8098a21e"
  },
  {
   "cell_type": "code",
   "execution_count": 39,
   "outputs": [
    {
     "name": "stdout",
     "output_type": "stream",
     "text": [
      "1287 --->  silent\n",
      " 313 --->  night\n",
      "Vocabulary size: 10000\n"
     ]
    }
   ],
   "source": [
    "# get_vocabulary() 返回词汇表\n",
    "print(\"1287 ---> \",vectorize_layer.get_vocabulary()[1287]) # 1287 --->  silent\n",
    "print(\" 313 ---> \",vectorize_layer.get_vocabulary()[313]) #  313 --->  night\n",
    "print('Vocabulary size: {}'.format(len(vectorize_layer.get_vocabulary()))) # Vocabulary size: 10000"
   ],
   "metadata": {
    "collapsed": false,
    "ExecuteTime": {
     "end_time": "2024-01-11T07:10:36.139648Z",
     "start_time": "2024-01-11T07:10:36.092599Z"
    }
   },
   "id": "95b5d93841f8fe74"
  },
  {
   "cell_type": "markdown",
   "source": [
    "# 将之前创建的 TextVectorization 层应用于训练数据集、验证数据集和测试数据集"
   ],
   "metadata": {
    "collapsed": false
   },
   "id": "48ab62f535608d27"
  },
  {
   "cell_type": "code",
   "execution_count": 40,
   "outputs": [
    {
     "name": "stdout",
     "output_type": "stream",
     "text": [
      "<_BatchDataset element_spec=(TensorSpec(shape=(None,), dtype=tf.string, name=None), TensorSpec(shape=(None,), dtype=tf.int32, name=None))> <class 'tensorflow.python.data.ops.batch_op._BatchDataset'>\n"
     ]
    }
   ],
   "source": [
    "# 使用map() 每个样本都包括向量化后的文本数据和标签\n",
    "print(raw_train_ds, type(raw_train_ds))\n",
    "train_ds = raw_train_ds.map(vectorize_text)\n",
    "val_ds = raw_val_ds.map(vectorize_text)\n",
    "test_ds = raw_test_ds.map(vectorize_text)"
   ],
   "metadata": {
    "collapsed": false,
    "ExecuteTime": {
     "end_time": "2024-01-11T07:12:01.625461Z",
     "start_time": "2024-01-11T07:12:01.546019Z"
    }
   },
   "id": "a929bc17035f8315"
  },
  {
   "cell_type": "code",
   "execution_count": 41,
   "outputs": [
    {
     "name": "stdout",
     "output_type": "stream",
     "text": [
      "<_MapDataset element_spec=(TensorSpec(shape=(None, 250), dtype=tf.int64, name=None), TensorSpec(shape=(None,), dtype=tf.int32, name=None))> <class 'tensorflow.python.data.ops.map_op._MapDataset'>\n"
     ]
    }
   ],
   "source": [
    "print(train_ds, type(train_ds))"
   ],
   "metadata": {
    "collapsed": false,
    "ExecuteTime": {
     "end_time": "2024-01-11T07:12:22.872104Z",
     "start_time": "2024-01-11T07:12:22.858574Z"
    }
   },
   "id": "278cddc942cc2f45"
  },
  {
   "cell_type": "markdown",
   "source": [
    "# 创建神经网络"
   ],
   "metadata": {
    "collapsed": false
   },
   "id": "5c398721acb72e35"
  },
  {
   "cell_type": "code",
   "execution_count": 43,
   "outputs": [],
   "source": [
    "embedding_dim = 16 # 词向量的维度"
   ],
   "metadata": {
    "collapsed": false,
    "ExecuteTime": {
     "end_time": "2024-01-11T07:18:54.059402Z",
     "start_time": "2024-01-11T07:18:54.045436Z"
    }
   },
   "id": "62cc9246d248a8ba"
  },
  {
   "cell_type": "markdown",
   "source": [
    "层按顺序堆叠以构建分类器：\n",
    "第一个层是 Embedding 层。此层采用整数编码的评论，并查找每个单词索引的嵌入向量。这些向量是通过模型训练学习到的。向量向输出数组增加了一个维度。得到的维度为：(batch, sequence, embedding)。要详细了解嵌入向量，请参阅单词嵌入向量教程。  \n",
    "接下来，GlobalAveragePooling1D 将通过对序列维度求平均值来为每个样本返回一个定长输出向量。这允许模型以尽可能最简单的方式处理变长输入。  \n",
    "该定长输出向量通过一个有 16 个隐层单元的全连接（Dense）层传输。  \n",
    "最后一层与单个输出结点密集连接。使用 Sigmoid 激活函数，其函数值为介于 0 与 1 之间的浮点数，表示概率或置信度。"
   ],
   "metadata": {
    "collapsed": false
   },
   "id": "5b29c87139f98a81"
  },
  {
   "cell_type": "code",
   "execution_count": 44,
   "outputs": [
    {
     "name": "stdout",
     "output_type": "stream",
     "text": [
      "Model: \"sequential\"\n",
      "_________________________________________________________________\n",
      " Layer (type)                Output Shape              Param #   \n",
      "=================================================================\n",
      " embedding (Embedding)       (None, None, 16)          160016    \n",
      "                                                                 \n",
      " dropout (Dropout)           (None, None, 16)          0         \n",
      "                                                                 \n",
      " global_average_pooling1d (  (None, 16)                0         \n",
      " GlobalAveragePooling1D)                                         \n",
      "                                                                 \n",
      " dropout_1 (Dropout)         (None, 16)                0         \n",
      "                                                                 \n",
      " dense (Dense)               (None, 1)                 17        \n",
      "                                                                 \n",
      "=================================================================\n",
      "Total params: 160033 (625.13 KB)\n",
      "Trainable params: 160033 (625.13 KB)\n",
      "Non-trainable params: 0 (0.00 Byte)\n",
      "_________________________________________________________________\n"
     ]
    }
   ],
   "source": [
    "# 使用 tf.keras.Sequential 搭建模型\n",
    "model = tf.keras.Sequential([\n",
    "  layers.Embedding(max_features + 1, embedding_dim), # 词嵌入层 词汇表大小为 10001（有 10000 个词 +1，未知词），词向量的维度为 16\n",
    "  layers.Dropout(0.2), # 丢弃层 0.2代表丢弃20%的数据\n",
    "  layers.GlobalAveragePooling1D(), # 全局平均池化层\n",
    "  layers.Dropout(0.2), # 丢弃层\n",
    "  layers.Dense(1)]) # 全连接层 1个神经元\n",
    "\n",
    "model.summary() # 打印模型结构"
   ],
   "metadata": {
    "collapsed": false,
    "ExecuteTime": {
     "end_time": "2024-01-11T07:18:56.105844Z",
     "start_time": "2024-01-11T07:18:56.047838Z"
    }
   },
   "id": "e0a07f067201df9c"
  },
  {
   "cell_type": "markdown",
   "source": [
    "# 损失函数与优化器"
   ],
   "metadata": {
    "collapsed": false
   },
   "id": "79d5b5ee4aad0f99"
  },
  {
   "cell_type": "code",
   "execution_count": 45,
   "outputs": [],
   "source": [
    "model.compile(loss=losses.BinaryCrossentropy(from_logits=True), # 二元交叉熵损失函数\n",
    "              optimizer='adam', # 优化器 Adam 利用了动量方法，它有助于加速梯度下降在相关方向上的收敛，并减少震荡\n",
    "              metrics=tf.metrics.BinaryAccuracy(threshold=0.0)) # 二元准确率"
   ],
   "metadata": {
    "collapsed": false,
    "ExecuteTime": {
     "end_time": "2024-01-11T07:43:24.561209Z",
     "start_time": "2024-01-11T07:43:24.544694Z"
    }
   },
   "id": "c032e6ad7e47ad45"
  },
  {
   "cell_type": "markdown",
   "source": [
    "# 训练模型"
   ],
   "metadata": {
    "collapsed": false
   },
   "id": "877c1ac55b319664"
  },
  {
   "cell_type": "code",
   "execution_count": 46,
   "outputs": [
    {
     "name": "stdout",
     "output_type": "stream",
     "text": [
      "Epoch 1/10\n",
      "625/625 [==============================] - 2s 3ms/step - loss: 0.6647 - binary_accuracy: 0.6918 - val_loss: 0.6152 - val_binary_accuracy: 0.7732\n",
      "Epoch 2/10\n",
      "625/625 [==============================] - 2s 4ms/step - loss: 0.5487 - binary_accuracy: 0.8033 - val_loss: 0.4986 - val_binary_accuracy: 0.8222\n",
      "Epoch 3/10\n",
      "625/625 [==============================] - 2s 4ms/step - loss: 0.4454 - binary_accuracy: 0.8439 - val_loss: 0.4204 - val_binary_accuracy: 0.8468\n",
      "Epoch 4/10\n",
      "625/625 [==============================] - 2s 4ms/step - loss: 0.3790 - binary_accuracy: 0.8655 - val_loss: 0.3740 - val_binary_accuracy: 0.8602\n",
      "Epoch 5/10\n",
      "625/625 [==============================] - 2s 4ms/step - loss: 0.3356 - binary_accuracy: 0.8794 - val_loss: 0.3448 - val_binary_accuracy: 0.8688\n",
      "Epoch 6/10\n",
      "625/625 [==============================] - 2s 4ms/step - loss: 0.3048 - binary_accuracy: 0.8889 - val_loss: 0.3261 - val_binary_accuracy: 0.8702\n",
      "Epoch 7/10\n",
      "625/625 [==============================] - 3s 4ms/step - loss: 0.2812 - binary_accuracy: 0.8977 - val_loss: 0.3126 - val_binary_accuracy: 0.8732\n",
      "Epoch 8/10\n",
      "625/625 [==============================] - 2s 4ms/step - loss: 0.2617 - binary_accuracy: 0.9050 - val_loss: 0.3030 - val_binary_accuracy: 0.8760\n",
      "Epoch 9/10\n",
      "625/625 [==============================] - 2s 4ms/step - loss: 0.2454 - binary_accuracy: 0.9111 - val_loss: 0.2959 - val_binary_accuracy: 0.8762\n",
      "Epoch 10/10\n",
      "625/625 [==============================] - 2s 4ms/step - loss: 0.2310 - binary_accuracy: 0.9164 - val_loss: 0.2917 - val_binary_accuracy: 0.8792\n"
     ]
    }
   ],
   "source": [
    "epochs = 10\n",
    "history = model.fit(\n",
    "    train_ds,\n",
    "    validation_data=val_ds,\n",
    "    epochs=epochs)"
   ],
   "metadata": {
    "collapsed": false,
    "ExecuteTime": {
     "end_time": "2024-01-11T07:44:20.946957Z",
     "start_time": "2024-01-11T07:43:57.342783Z"
    }
   },
   "id": "7259541da696ae68"
  },
  {
   "cell_type": "markdown",
   "source": [
    "# 评估模型"
   ],
   "metadata": {
    "collapsed": false
   },
   "id": "1d9f89efc612b05c"
  },
  {
   "cell_type": "code",
   "execution_count": 47,
   "outputs": [
    {
     "name": "stdout",
     "output_type": "stream",
     "text": [
      "782/782 [==============================] - 1s 1ms/step - loss: 0.3098 - binary_accuracy: 0.8741\n",
      "Loss:  0.30984339118003845\n",
      "Accuracy:  0.8740800023078918\n"
     ]
    }
   ],
   "source": [
    "loss, accuracy = model.evaluate(test_ds)\n",
    "\n",
    "print(\"Loss: \", loss)\n",
    "print(\"Accuracy: \", accuracy)"
   ],
   "metadata": {
    "collapsed": false,
    "ExecuteTime": {
     "end_time": "2024-01-11T07:45:15.304688Z",
     "start_time": "2024-01-11T07:45:14.075686Z"
    }
   },
   "id": "103682d2ff7d10b"
  },
  {
   "cell_type": "markdown",
   "source": [
    "# 创建准确率和损失随时间变化的图表"
   ],
   "metadata": {
    "collapsed": false
   },
   "id": "d2446de2d4f52149"
  },
  {
   "cell_type": "code",
   "execution_count": 48,
   "outputs": [
    {
     "data": {
      "text/plain": "dict_keys(['loss', 'binary_accuracy', 'val_loss', 'val_binary_accuracy'])"
     },
     "execution_count": 48,
     "metadata": {},
     "output_type": "execute_result"
    }
   ],
   "source": [
    "history_dict = history.history\n",
    "history_dict.keys()"
   ],
   "metadata": {
    "collapsed": false,
    "ExecuteTime": {
     "end_time": "2024-01-11T07:46:00.941420Z",
     "start_time": "2024-01-11T07:46:00.933759Z"
    }
   },
   "id": "3d242d22e98ffc80"
  },
  {
   "cell_type": "code",
   "execution_count": 49,
   "outputs": [
    {
     "data": {
      "text/plain": "<Figure size 640x480 with 1 Axes>",
      "image/png": "[encoded data removed]"
     },
     "metadata": {},
     "output_type": "display_data"
    }
   ],
   "source": [
    "acc = history_dict['binary_accuracy'] # 二元准确率\n",
    "val_acc = history_dict['val_binary_accuracy'] # 验证集二元准确率\n",
    "loss = history_dict['loss'] # 损失\n",
    "val_loss = history_dict['val_loss'] # 验证集损失\n",
    "\n",
    "epochs = range(1, len(acc) + 1)\n",
    "\n",
    "# \"bo\" is for \"blue dot\"\n",
    "plt.plot(epochs, loss, 'bo', label='Training loss')\n",
    "# b is for \"solid blue line\"\n",
    "plt.plot(epochs, val_loss, 'b', label='Validation loss')\n",
    "plt.title('Training and validation loss')\n",
    "plt.xlabel('Epochs')\n",
    "plt.ylabel('Loss')\n",
    "plt.legend()\n",
    "\n",
    "plt.show()"
   ],
   "metadata": {
    "collapsed": false,
    "ExecuteTime": {
     "end_time": "2024-01-11T07:46:51.799756Z",
     "start_time": "2024-01-11T07:46:51.625970Z"
    }
   },
   "id": "fb359e54c0286976"
  },
  {
   "cell_type": "code",
   "execution_count": 50,
   "outputs": [
    {
     "data": {
      "text/plain": "<Figure size 640x480 with 1 Axes>",
      "image/png": "[encoded data removed]"
     },
     "metadata": {},
     "output_type": "display_data"
    }
   ],
   "source": [
    "# 绘制准确率\n",
    "plt.plot(epochs, acc, 'bo', label='Training acc')\n",
    "plt.plot(epochs, val_acc, 'b', label='Validation acc')\n",
    "plt.title('Training and validation accuracy')\n",
    "plt.xlabel('Epochs')\n",
    "plt.ylabel('Accuracy')\n",
    "plt.legend(loc='lower right')\n",
    "\n",
    "plt.show()"
   ],
   "metadata": {
    "collapsed": false,
    "ExecuteTime": {
     "end_time": "2024-01-11T08:22:31.115235Z",
     "start_time": "2024-01-11T08:22:31.016805Z"
    }
   },
   "id": "93606e201cc42572"
  },
  {
   "cell_type": "markdown",
   "source": [
    "# 导出模型"
   ],
   "metadata": {
    "collapsed": false
   },
   "id": "5441acec61af5b92"
  },
  {
   "cell_type": "code",
   "execution_count": 51,
   "outputs": [
    {
     "name": "stdout",
     "output_type": "stream",
     "text": [
      "782/782 [==============================] - 1s 2ms/step - loss: 0.3098 - accuracy: 0.8741\n",
      "0.8740800023078918\n"
     ]
    }
   ],
   "source": [
    "# vectorize_layer：这通常是一个将文本转换为固定大小的数值向量的层。\n",
    "# model：这是已经训练好的模型，负责进行实际的预测。\n",
    "# layers.Activation('sigmoid')：在输出层使用 Sigmoid 激活函数，将输出转换为介于 0 和 1 之间的概率值，通常用于二分类任务。\n",
    "export_model = tf.keras.Sequential([\n",
    "  vectorize_layer,\n",
    "  model,\n",
    "  layers.Activation('sigmoid')\n",
    "])\n",
    "\n",
    "export_model.compile(\n",
    "    loss=losses.BinaryCrossentropy(from_logits=False), \n",
    "    optimizer=\"adam\", \n",
    "    metrics=['accuracy']\n",
    ")\n",
    "\n",
    "loss, accuracy = export_model.evaluate(raw_test_ds)\n",
    "print(accuracy)"
   ],
   "metadata": {
    "collapsed": false,
    "ExecuteTime": {
     "end_time": "2024-01-11T08:34:33.679190Z",
     "start_time": "2024-01-11T08:34:32.215309Z"
    }
   },
   "id": "bd4ebe2ef2c595c4"
  },
  {
   "cell_type": "markdown",
   "source": [
    "# 使用新数据推断"
   ],
   "metadata": {
    "collapsed": false
   },
   "id": "e09771e699f3454a"
  },
  {
   "cell_type": "code",
   "execution_count": 52,
   "outputs": [
    {
     "name": "stdout",
     "output_type": "stream",
     "text": [
      "1/1 [==============================] - 0s 53ms/step\n"
     ]
    },
    {
     "data": {
      "text/plain": "array([[0.6218485 ],\n       [0.44370332],\n       [0.36250514]], dtype=float32)"
     },
     "execution_count": 52,
     "metadata": {},
     "output_type": "execute_result"
    }
   ],
   "source": [
    "examples = [\n",
    "  \"The movie was great!\",\n",
    "  \"The movie was okay.\",\n",
    "  \"The movie was terrible...\"\n",
    "]\n",
    "\n",
    "export_model.predict(examples)"
   ],
   "metadata": {
    "collapsed": false,
    "ExecuteTime": {
     "end_time": "2024-01-11T08:35:07.467602Z",
     "start_time": "2024-01-11T08:35:07.382826Z"
    }
   },
   "id": "4d49a2994eda8bc7"
  },
  {
   "cell_type": "markdown",
   "source": [
    "# 练习:  \n",
    "## 对 Stack Overflow 问题进行多类分类  \n",
    "数据集地址：https://storage.googleapis.com/download.tensorflow.org/data/stack_overflow_16k.tar.gz  \n",
    "```bash\n",
    "wget https://storage.googleapis.com/download.tensorflow.org/data/stack_overflow_16k.tar.gz\n",
    "tar -xzf stack_overflow_16k.tar.gz\n",
    "```\n",
    "## 任务\n",
    "每一个问题都只有一个标签（Python、CSharp、JavaScript 或 Java）。您的任务是将问题作为输入，并预测适当的标签，在本例中为 Python。  \n",
    "\n",
    "# 练习见./stack_overflow_classification.py"
   ],
   "metadata": {
    "collapsed": false
   },
   "id": "d4c0944f44a540e5"
  }
 ],
 "metadata": {
  "kernelspec": {
   "display_name": "Python 3",
   "language": "python",
   "name": "python3"
  },
  "language_info": {
   "codemirror_mode": {
    "name": "ipython",
    "version": 2
   },
   "file_extension": ".py",
   "mimetype": "text/x-python",
   "name": "python",
   "nbconvert_exporter": "python",
   "pygments_lexer": "ipython2",
   "version": "2.7.6"
  }
 },
 "nbformat": 4,
 "nbformat_minor": 5
}
