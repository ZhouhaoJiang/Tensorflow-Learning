{
 "cells": [
  {
   "cell_type": "markdown",
   "source": [
    "# 演示从存储在磁盘上的纯文本文件开始的文本分类。训练一个二元分类器对 IMDB 数据集执行情感分析。"
   ],
   "metadata": {
    "collapsed": false
   },
   "id": "29b294f8648c489f"
  },
  {
   "cell_type": "code",
   "execution_count": 1,
   "id": "initial_id",
   "metadata": {
    "collapsed": true,
    "ExecuteTime": {
     "end_time": "2024-01-11T05:46:31.534275Z",
     "start_time": "2024-01-11T05:46:28.880804Z"
    }
   },
   "outputs": [],
   "source": [
    "import matplotlib.pyplot as plt\n",
    "import os\n",
    "import re\n",
    "import shutil\n",
    "import string\n",
    "import tensorflow as tf\n",
    "\n",
    "# 教程中的导入方法为\n",
    "# from tensorflow.keras import layers\n",
    "# from tensorflow.keras import losses\n",
    "from tensorflow.python.keras import layers\n",
    "from tensorflow.python.keras import losses"
   ]
  },
  {
   "cell_type": "code",
   "execution_count": null,
   "outputs": [],
   "source": [],
   "metadata": {
    "collapsed": false
   },
   "id": "e0fb0f78c391fb4a"
  }
 ],
 "metadata": {
  "kernelspec": {
   "display_name": "Python 3",
   "language": "python",
   "name": "python3"
  },
  "language_info": {
   "codemirror_mode": {
    "name": "ipython",
    "version": 2
   },
   "file_extension": ".py",
   "mimetype": "text/x-python",
   "name": "python",
   "nbconvert_exporter": "python",
   "pygments_lexer": "ipython2",
   "version": "2.7.6"
  }
 },
 "nbformat": 4,
 "nbformat_minor": 5
}
